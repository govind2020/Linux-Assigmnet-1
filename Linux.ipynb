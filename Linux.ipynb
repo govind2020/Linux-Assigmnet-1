{
  "nbformat": 4,
  "nbformat_minor": 0,
  "metadata": {
    "colab": {
      "provenance": []
    },
    "kernelspec": {
      "name": "python3",
      "display_name": "Python 3"
    },
    "language_info": {
      "name": "python"
    }
  },
  "cells": [
    {
      "cell_type": "markdown",
      "source": [],
      "metadata": {
        "id": "yyUjmrG_7s48"
      }
    },
    {
      "cell_type": "markdown",
      "source": [
        "# **LINUX**\n",
        "\n",
        "\n",
        "1. What is Linux?\n",
        "\n",
        "- Linux is a free and open-source operating system  that manages a computer's hardware and software. It's a widely used OS, powering everything from personal computers to servers and even mobile devices. Linux is known for its flexibility, security, and reliability.\n",
        "\n",
        "\n",
        "2. What is the difference between Hard Link & Soft Link?\n",
        "\n",
        "- A hard link always points a filename to data on a storage device. A soft link always points a filename to another filename, which then points to information on a storage device\n",
        "\n",
        "3.  What is a Kernel in Linux?\n",
        "\n",
        "- In Linux, the kernel is the core of the operating system, acting as the bridge between hardware and software. It manages system resources, handles low-level tasks, and allows the OS to interact with the underlying hardware.\n",
        "\n",
        "4. How do you create a user account ?\n",
        "\n",
        "- To create a user account in Linux, you can use the useradd or adduser command. The useradd command provides more control over the user account's configuration, while adduser is a more user-friendly interface.\n",
        "\n",
        "  steps:-\n",
        "- Open a terminal: Navigate to your terminal in Linux.\n",
        "- Use sudo: You'll need root privileges, so use sudo before the command.\n",
        "- Run useradd: Use the command sudo useradd username, replacing username with the desired name for the new account.\n",
        "- Set a password: After creating the user, set a password with the passwd command: sudo passwd username.\n",
        "- Optional: Add to groups: You can add the user to specific groups using usermod\n",
        "\n",
        "5. What is the ‘grep’ command used for in Linux ?\n",
        "\n",
        "- The grep command is a tool in Linux and Unix that's used to search for specific text within files, such as words, phrases or patterns\n",
        "\n",
        "\n",
        "6.\n",
        "\n",
        "  a. p1: Create user p1\n",
        "  - sudo useradd p1\n",
        "\n",
        "  b.  He should be part of 3 groups g1,g2,g3.\n",
        "  - sudo groupadd g1\n",
        "    sudo groupadd g2\n",
        "    sudo groupadd g3\n",
        "\n",
        "  c.  whenever he creates a file automatically in the group section of file grp g1 should come.\n",
        "\n",
        "  - sudo usermod -g g1 p1\n",
        "\n",
        "7.\n",
        "\n",
        "  a. Create directory /tmp/bg as root user and create files inside it.\n",
        "  - sudo mkdir /tmp/bg\n",
        "  sudo touch /tmp/bg/file1 /tmp/bg/file2\n",
        "\n",
        "\n",
        "  b. “abhi” should be the owner of the directory. He should be able to create files and delete files inside the directory and also he should be able to add content to all files inside the directory.\n",
        "\n",
        "  - sudo chown -R abhi:abhi /tmp/bg\n",
        "  - sudo chmod 755 /tmp/bg              \n",
        "  - sudo chmod 644 /tmp/bg/*      \n",
        "\n",
        "8. You suspect that a particular process is consuming excessive CPU resources on your Linux server. How would you identify and terminate this process?\n",
        "\n",
        "- Step 1: Identify the high CPU-consuming process:-\n",
        "  top\n",
        "- Step 2: Investigate (Optional but Recommended):-\n",
        "  ps -p <PID> -o pid,ppid,cmd,%cpu,%mem\n",
        "- Step 3: Terminate the process:-\n",
        "  kill <PID>\n",
        "\n"
      ],
      "metadata": {
        "id": "-jMgMJ9R7uKZ"
      }
    },
    {
      "cell_type": "code",
      "source": [],
      "metadata": {
        "id": "eko64izF8p7X"
      },
      "execution_count": null,
      "outputs": []
    }
  ]
}